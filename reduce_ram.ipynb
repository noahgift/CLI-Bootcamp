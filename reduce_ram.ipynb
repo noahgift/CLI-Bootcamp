{
  "nbformat": 4,
  "nbformat_minor": 0,
  "metadata": {
    "colab": {
      "name": "reduce-ram.ipynb",
      "provenance": [],
      "authorship_tag": "ABX9TyPlD1Q5CzIAbRj38yRQbl7q",
      "include_colab_link": true
    },
    "kernelspec": {
      "name": "python3",
      "display_name": "Python 3"
    },
    "language_info": {
      "name": "python"
    }
  },
  "cells": [
    {
      "cell_type": "markdown",
      "metadata": {
        "id": "view-in-github",
        "colab_type": "text"
      },
      "source": [
        "<a href=\"https://colab.research.google.com/github/noahgift/CLI-Bootcamp/blob/main/reduce_ram.ipynb\" target=\"_parent\"><img src=\"https://colab.research.google.com/assets/colab-badge.svg\" alt=\"Open In Colab\"/></a>"
      ]
    },
    {
      "cell_type": "code",
      "execution_count": 1,
      "metadata": {
        "colab": {
          "base_uri": "https://localhost:8080/"
        },
        "id": "IPGP-b9i5YMT",
        "outputId": "d46ff47a-9e5e-47e9-9eef-c82a63e4fc0f"
      },
      "outputs": [
        {
          "output_type": "stream",
          "name": "stdout",
          "text": [
            "--2022-02-26 02:39:31--  https://raw.githubusercontent.com/noahgift/coursera-de-c2-truncate-file/main/nba_2017.csv\n",
            "Resolving raw.githubusercontent.com (raw.githubusercontent.com)... 185.199.108.133, 185.199.110.133, 185.199.111.133, ...\n",
            "Connecting to raw.githubusercontent.com (raw.githubusercontent.com)|185.199.108.133|:443... connected.\n",
            "HTTP request sent, awaiting response... 200 OK\n",
            "Length: 51688 (50K) [text/plain]\n",
            "Saving to: ‘nba_2017.csv’\n",
            "\n",
            "nba_2017.csv        100%[===================>]  50.48K  --.-KB/s    in 0.01s   \n",
            "\n",
            "2022-02-26 02:39:31 (3.82 MB/s) - ‘nba_2017.csv’ saved [51688/51688]\n",
            "\n"
          ]
        }
      ],
      "source": [
        "!wget https://raw.githubusercontent.com/noahgift/coursera-de-c2-truncate-file/main/nba_2017.csv"
      ]
    },
    {
      "cell_type": "code",
      "source": [
        "!ls -l nba_2017.csv"
      ],
      "metadata": {
        "colab": {
          "base_uri": "https://localhost:8080/"
        },
        "id": "zsoUHmn_5apn",
        "outputId": "4b839520-fa70-4e4d-b012-f2254f53b5fa"
      },
      "execution_count": 2,
      "outputs": [
        {
          "output_type": "stream",
          "name": "stdout",
          "text": [
            "-rw-r--r-- 1 root root 51688 Feb 26 02:39 nba_2017.csv\n"
          ]
        }
      ]
    },
    {
      "cell_type": "code",
      "source": [
        "!wc -l nba_2017.csv"
      ],
      "metadata": {
        "colab": {
          "base_uri": "https://localhost:8080/"
        },
        "id": "MhwzVxHX5h3l",
        "outputId": "37d6cf08-6877-4241-dbfb-5588ccb0dd74"
      },
      "execution_count": 3,
      "outputs": [
        {
          "output_type": "stream",
          "name": "stdout",
          "text": [
            "240 nba_2017.csv\n"
          ]
        }
      ]
    },
    {
      "cell_type": "code",
      "source": [
        "!shuf -n 100 nba_2017.csv > small_nba_2017.csv"
      ],
      "metadata": {
        "id": "HkVCtWlA5kUH"
      },
      "execution_count": 4,
      "outputs": []
    },
    {
      "cell_type": "code",
      "source": [
        "!wc -l small_nba_2017.csv"
      ],
      "metadata": {
        "colab": {
          "base_uri": "https://localhost:8080/"
        },
        "id": "sL11psX65r3b",
        "outputId": "5192b472-209e-40e6-9dad-adbea832916f"
      },
      "execution_count": 5,
      "outputs": [
        {
          "output_type": "stream",
          "name": "stdout",
          "text": [
            "100 small_nba_2017.csv\n"
          ]
        }
      ]
    },
    {
      "cell_type": "code",
      "source": [
        "!shuf --help"
      ],
      "metadata": {
        "colab": {
          "base_uri": "https://localhost:8080/"
        },
        "id": "T552-4vd5xPe",
        "outputId": "a8f0e992-c741-4a6e-82ea-a5893ca5a0b8"
      },
      "execution_count": 7,
      "outputs": [
        {
          "output_type": "stream",
          "name": "stdout",
          "text": [
            "Usage: shuf [OPTION]... [FILE]\n",
            "  or:  shuf -e [OPTION]... [ARG]...\n",
            "  or:  shuf -i LO-HI [OPTION]...\n",
            "Write a random permutation of the input lines to standard output.\n",
            "\n",
            "With no FILE, or when FILE is -, read standard input.\n",
            "\n",
            "Mandatory arguments to long options are mandatory for short options too.\n",
            "  -e, --echo                treat each ARG as an input line\n",
            "  -i, --input-range=LO-HI   treat each number LO through HI as an input line\n",
            "  -n, --head-count=COUNT    output at most COUNT lines\n",
            "  -o, --output=FILE         write result to FILE instead of standard output\n",
            "      --random-source=FILE  get random bytes from FILE\n",
            "  -r, --repeat              output lines can be repeated\n",
            "  -z, --zero-terminated     line delimiter is NUL, not newline\n",
            "      --help     display this help and exit\n",
            "      --version  output version information and exit\n",
            "\n",
            "GNU coreutils online help: <http://www.gnu.org/software/coreutils/>\n",
            "Full documentation at: <http://www.gnu.org/software/coreutils/shuf>\n",
            "or available locally via: info '(coreutils) shuf invocation'\n"
          ]
        }
      ]
    },
    {
      "cell_type": "code",
      "source": [
        ""
      ],
      "metadata": {
        "id": "_LzhkwXt5zbO"
      },
      "execution_count": null,
      "outputs": []
    }
  ]
}